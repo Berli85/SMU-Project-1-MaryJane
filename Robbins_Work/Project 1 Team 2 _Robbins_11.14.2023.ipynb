{
 "cells": [
  {
   "cell_type": "code",
   "execution_count": 67,
   "id": "d453f3cd",
   "metadata": {},
   "outputs": [],
   "source": [
    "import pandas as pd\n",
    "import numpy as np\n",
    "\n",
    "import matplotlib as mpl\n",
    "import matplotlib.pyplot as plt\n",
    "\n",
    "import scipy.stats as st\n",
    "\n",
    "import seaborn as sns\n",
    "import seaborn.objects as so\n"
   ]
  },
  {
   "cell_type": "code",
   "execution_count": 68,
   "id": "cf6bbf08",
   "metadata": {},
   "outputs": [],
   "source": [
    "#HYPOTHESIS\n",
    "\n",
    "#1) Misha\n",
    "    #Do hybrid types have more happy effects compared to non-hybrid types?\n",
    "        #Option 1: Create data frame from first 5 columns, then call columns needed to compare type with effect\n",
    "\n",
    "    #Option 2: Group data by type and effect\n",
    "\n",
    "    #Visual display of how many happy effects associated to each type - Donut Charts (3 total)\n",
    "    \n",
    "    #What is the correlation of type to effect-Use P-Values - Scatter Plot\n",
    "        #Make sure to add statement - If P value is greater than x-value (look for this) there is a strong correlation\n",
    "\n",
    "#2) Kim\n",
    "    #Does sweet profile cannabis have a higher rating?\n",
    "        #What Flavor had the Max Rating\n",
    "        #What Flavor has the min Rating\n",
    "        #What Flavor has the median Rating\n",
    "    \n",
    "#3) #Latti\n",
    "    #Does the location of the breeder impact the rating? Does the location impact the type that is grown?\n",
    "\n",
    "\n",
    "#4)  Tacha\n",
    "    #Is there a significant difference in the effects experienced by consumers when they rate the same cannabis type differently? \n",
    "    #(Use data to get the ratings of the cannabis type and analyze the effects reported to see if they are consistent.) \n",
    "    #Do users feel different effects when they use the same type of cannabis(yes). \n",
    "    #How does this affect how they rate it? Ex: Hybrid- 13 users said it made them aroused. What is the average rating reported by those 13 people? Repeat for a few more effects in Hybrid, Sativa, then Indica.\n"
   ]
  },
  {
   "cell_type": "code",
   "execution_count": 63,
   "id": "eff9c7ab",
   "metadata": {},
   "outputs": [],
   "source": [
    "#extract individual effects"
   ]
  },
  {
   "cell_type": "code",
   "execution_count": null,
   "id": "7d91b116",
   "metadata": {},
   "outputs": [],
   "source": [
    "#Setting significance level"
   ]
  },
  {
   "cell_type": "code",
   "execution_count": null,
   "id": "61cbd5d9",
   "metadata": {},
   "outputs": [],
   "source": []
  },
  {
   "cell_type": "code",
   "execution_count": null,
   "id": "3b9da0a3",
   "metadata": {},
   "outputs": [],
   "source": []
  }
 ],
 "metadata": {
  "kernelspec": {
   "display_name": "Python 3 (ipykernel)",
   "language": "python",
   "name": "python3"
  },
  "language_info": {
   "codemirror_mode": {
    "name": "ipython",
    "version": 3
   },
   "file_extension": ".py",
   "mimetype": "text/x-python",
   "name": "python",
   "nbconvert_exporter": "python",
   "pygments_lexer": "ipython3",
   "version": "3.10.13"
  }
 },
 "nbformat": 4,
 "nbformat_minor": 5
}
