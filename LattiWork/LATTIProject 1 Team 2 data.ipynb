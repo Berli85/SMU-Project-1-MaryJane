{
 "cells": [
  {
   "cell_type": "code",
   "execution_count": 57,
   "id": "d453f3cd",
   "metadata": {},
   "outputs": [],
   "source": [
    "import pandas as pd\n",
    "import matplotlib.pyplot as plt\n",
    "import scipy.stats as st\n",
    "import numpy as np\n",
    "import sklearn.datasets as dta\n",
    "import seaborn as sns\n",
    "import seaborn.objects as so"
   ]
  },
  {
   "cell_type": "code",
   "execution_count": 58,
   "id": "cf6bbf08",
   "metadata": {},
   "outputs": [],
   "source": [
    "#HYPOTHESIS\n",
    "\n",
    "#1) Misha\n",
    "    #Do hybrid types have more happy effects compared to non-hybrid types?\n",
    "        #Option 1: Create data frame from first 5 columns, then call columns needed to compare type with effect\n",
    "\n",
    "    #Option 2: Group data by type and effect\n",
    "\n",
    "    #Visual display of how many happy effects associated to each type - Donut Charts (3 total)\n",
    "    \n",
    "    #What is the correlation of type to effect-Use P-Values - Scatter Plot\n",
    "        #Make sure to add statement - If P value is greater than x-value (look for this) there is a strong correlation\n",
    "\n",
    "#2) Kim\n",
    "    #Does sweet profile cannabis have a higher rating?\n",
    "        #What Flavor had the Max Rating\n",
    "        #What Flavor has the min Rating\n",
    "        #What Flavor has the median Rating\n",
    "    \n",
    "#3) #Latti\n",
    "    #Does the location of the breeder impact the rating? Does the location impact the type that is grown?\n",
    "\n",
    "\n",
    "#4)  Tacha\n",
    "    #Is there a significant difference in the effects experienced by consumers when they rate the same cannabis type differently? \n",
    "    #(Use data to get the ratings of the cannabis type and analyze the effects reported to see if they are consistent.) Do users feel different effects when they use the same type of cannabis(yes). How does this affect how they rate it? Ex: Hybrid- 13 users said it made them aroused. What is the average rating reported by those 13 people? Repeat for a few more effects in Hybrid, Sativa, then Indica.\n"
   ]
  },
  {
   "cell_type": "code",
   "execution_count": 59,
   "id": "a157d0d2",
   "metadata": {},
   "outputs": [
    {
     "ename": "FileNotFoundError",
     "evalue": "[Errno 2] No such file or directory: 'new_data.csv'",
     "output_type": "error",
     "traceback": [
      "\u001b[0;31m---------------------------------------------------------------------------\u001b[0m",
      "\u001b[0;31mFileNotFoundError\u001b[0m                         Traceback (most recent call last)",
      "Cell \u001b[0;32mIn[59], line 1\u001b[0m\n\u001b[0;32m----> 1\u001b[0m Original_Data \u001b[38;5;241m=\u001b[39m \u001b[43mpd\u001b[49m\u001b[38;5;241;43m.\u001b[39;49m\u001b[43mread_csv\u001b[49m\u001b[43m(\u001b[49m\u001b[38;5;124;43m\"\u001b[39;49m\u001b[38;5;124;43mnew_data.csv\u001b[39;49m\u001b[38;5;124;43m\"\u001b[39;49m\u001b[43m,\u001b[49m\u001b[43mencoding\u001b[49m\u001b[43m \u001b[49m\u001b[38;5;241;43m=\u001b[39;49m\u001b[38;5;124;43m'\u001b[39;49m\u001b[38;5;124;43mlatin-1\u001b[39;49m\u001b[38;5;124;43m'\u001b[39;49m\u001b[43m)\u001b[49m\n\u001b[1;32m      2\u001b[0m Original_Data\u001b[38;5;241m.\u001b[39mhead()\n",
      "File \u001b[0;32m~/anaconda3/envs/dev/lib/python3.10/site-packages/pandas/io/parsers/readers.py:912\u001b[0m, in \u001b[0;36mread_csv\u001b[0;34m(filepath_or_buffer, sep, delimiter, header, names, index_col, usecols, dtype, engine, converters, true_values, false_values, skipinitialspace, skiprows, skipfooter, nrows, na_values, keep_default_na, na_filter, verbose, skip_blank_lines, parse_dates, infer_datetime_format, keep_date_col, date_parser, date_format, dayfirst, cache_dates, iterator, chunksize, compression, thousands, decimal, lineterminator, quotechar, quoting, doublequote, escapechar, comment, encoding, encoding_errors, dialect, on_bad_lines, delim_whitespace, low_memory, memory_map, float_precision, storage_options, dtype_backend)\u001b[0m\n\u001b[1;32m    899\u001b[0m kwds_defaults \u001b[38;5;241m=\u001b[39m _refine_defaults_read(\n\u001b[1;32m    900\u001b[0m     dialect,\n\u001b[1;32m    901\u001b[0m     delimiter,\n\u001b[0;32m   (...)\u001b[0m\n\u001b[1;32m    908\u001b[0m     dtype_backend\u001b[38;5;241m=\u001b[39mdtype_backend,\n\u001b[1;32m    909\u001b[0m )\n\u001b[1;32m    910\u001b[0m kwds\u001b[38;5;241m.\u001b[39mupdate(kwds_defaults)\n\u001b[0;32m--> 912\u001b[0m \u001b[38;5;28;01mreturn\u001b[39;00m \u001b[43m_read\u001b[49m\u001b[43m(\u001b[49m\u001b[43mfilepath_or_buffer\u001b[49m\u001b[43m,\u001b[49m\u001b[43m \u001b[49m\u001b[43mkwds\u001b[49m\u001b[43m)\u001b[49m\n",
      "File \u001b[0;32m~/anaconda3/envs/dev/lib/python3.10/site-packages/pandas/io/parsers/readers.py:577\u001b[0m, in \u001b[0;36m_read\u001b[0;34m(filepath_or_buffer, kwds)\u001b[0m\n\u001b[1;32m    574\u001b[0m _validate_names(kwds\u001b[38;5;241m.\u001b[39mget(\u001b[38;5;124m\"\u001b[39m\u001b[38;5;124mnames\u001b[39m\u001b[38;5;124m\"\u001b[39m, \u001b[38;5;28;01mNone\u001b[39;00m))\n\u001b[1;32m    576\u001b[0m \u001b[38;5;66;03m# Create the parser.\u001b[39;00m\n\u001b[0;32m--> 577\u001b[0m parser \u001b[38;5;241m=\u001b[39m \u001b[43mTextFileReader\u001b[49m\u001b[43m(\u001b[49m\u001b[43mfilepath_or_buffer\u001b[49m\u001b[43m,\u001b[49m\u001b[43m \u001b[49m\u001b[38;5;241;43m*\u001b[39;49m\u001b[38;5;241;43m*\u001b[39;49m\u001b[43mkwds\u001b[49m\u001b[43m)\u001b[49m\n\u001b[1;32m    579\u001b[0m \u001b[38;5;28;01mif\u001b[39;00m chunksize \u001b[38;5;129;01mor\u001b[39;00m iterator:\n\u001b[1;32m    580\u001b[0m     \u001b[38;5;28;01mreturn\u001b[39;00m parser\n",
      "File \u001b[0;32m~/anaconda3/envs/dev/lib/python3.10/site-packages/pandas/io/parsers/readers.py:1407\u001b[0m, in \u001b[0;36mTextFileReader.__init__\u001b[0;34m(self, f, engine, **kwds)\u001b[0m\n\u001b[1;32m   1404\u001b[0m     \u001b[38;5;28mself\u001b[39m\u001b[38;5;241m.\u001b[39moptions[\u001b[38;5;124m\"\u001b[39m\u001b[38;5;124mhas_index_names\u001b[39m\u001b[38;5;124m\"\u001b[39m] \u001b[38;5;241m=\u001b[39m kwds[\u001b[38;5;124m\"\u001b[39m\u001b[38;5;124mhas_index_names\u001b[39m\u001b[38;5;124m\"\u001b[39m]\n\u001b[1;32m   1406\u001b[0m \u001b[38;5;28mself\u001b[39m\u001b[38;5;241m.\u001b[39mhandles: IOHandles \u001b[38;5;241m|\u001b[39m \u001b[38;5;28;01mNone\u001b[39;00m \u001b[38;5;241m=\u001b[39m \u001b[38;5;28;01mNone\u001b[39;00m\n\u001b[0;32m-> 1407\u001b[0m \u001b[38;5;28mself\u001b[39m\u001b[38;5;241m.\u001b[39m_engine \u001b[38;5;241m=\u001b[39m \u001b[38;5;28;43mself\u001b[39;49m\u001b[38;5;241;43m.\u001b[39;49m\u001b[43m_make_engine\u001b[49m\u001b[43m(\u001b[49m\u001b[43mf\u001b[49m\u001b[43m,\u001b[49m\u001b[43m \u001b[49m\u001b[38;5;28;43mself\u001b[39;49m\u001b[38;5;241;43m.\u001b[39;49m\u001b[43mengine\u001b[49m\u001b[43m)\u001b[49m\n",
      "File \u001b[0;32m~/anaconda3/envs/dev/lib/python3.10/site-packages/pandas/io/parsers/readers.py:1661\u001b[0m, in \u001b[0;36mTextFileReader._make_engine\u001b[0;34m(self, f, engine)\u001b[0m\n\u001b[1;32m   1659\u001b[0m     \u001b[38;5;28;01mif\u001b[39;00m \u001b[38;5;124m\"\u001b[39m\u001b[38;5;124mb\u001b[39m\u001b[38;5;124m\"\u001b[39m \u001b[38;5;129;01mnot\u001b[39;00m \u001b[38;5;129;01min\u001b[39;00m mode:\n\u001b[1;32m   1660\u001b[0m         mode \u001b[38;5;241m+\u001b[39m\u001b[38;5;241m=\u001b[39m \u001b[38;5;124m\"\u001b[39m\u001b[38;5;124mb\u001b[39m\u001b[38;5;124m\"\u001b[39m\n\u001b[0;32m-> 1661\u001b[0m \u001b[38;5;28mself\u001b[39m\u001b[38;5;241m.\u001b[39mhandles \u001b[38;5;241m=\u001b[39m \u001b[43mget_handle\u001b[49m\u001b[43m(\u001b[49m\n\u001b[1;32m   1662\u001b[0m \u001b[43m    \u001b[49m\u001b[43mf\u001b[49m\u001b[43m,\u001b[49m\n\u001b[1;32m   1663\u001b[0m \u001b[43m    \u001b[49m\u001b[43mmode\u001b[49m\u001b[43m,\u001b[49m\n\u001b[1;32m   1664\u001b[0m \u001b[43m    \u001b[49m\u001b[43mencoding\u001b[49m\u001b[38;5;241;43m=\u001b[39;49m\u001b[38;5;28;43mself\u001b[39;49m\u001b[38;5;241;43m.\u001b[39;49m\u001b[43moptions\u001b[49m\u001b[38;5;241;43m.\u001b[39;49m\u001b[43mget\u001b[49m\u001b[43m(\u001b[49m\u001b[38;5;124;43m\"\u001b[39;49m\u001b[38;5;124;43mencoding\u001b[39;49m\u001b[38;5;124;43m\"\u001b[39;49m\u001b[43m,\u001b[49m\u001b[43m \u001b[49m\u001b[38;5;28;43;01mNone\u001b[39;49;00m\u001b[43m)\u001b[49m\u001b[43m,\u001b[49m\n\u001b[1;32m   1665\u001b[0m \u001b[43m    \u001b[49m\u001b[43mcompression\u001b[49m\u001b[38;5;241;43m=\u001b[39;49m\u001b[38;5;28;43mself\u001b[39;49m\u001b[38;5;241;43m.\u001b[39;49m\u001b[43moptions\u001b[49m\u001b[38;5;241;43m.\u001b[39;49m\u001b[43mget\u001b[49m\u001b[43m(\u001b[49m\u001b[38;5;124;43m\"\u001b[39;49m\u001b[38;5;124;43mcompression\u001b[39;49m\u001b[38;5;124;43m\"\u001b[39;49m\u001b[43m,\u001b[49m\u001b[43m \u001b[49m\u001b[38;5;28;43;01mNone\u001b[39;49;00m\u001b[43m)\u001b[49m\u001b[43m,\u001b[49m\n\u001b[1;32m   1666\u001b[0m \u001b[43m    \u001b[49m\u001b[43mmemory_map\u001b[49m\u001b[38;5;241;43m=\u001b[39;49m\u001b[38;5;28;43mself\u001b[39;49m\u001b[38;5;241;43m.\u001b[39;49m\u001b[43moptions\u001b[49m\u001b[38;5;241;43m.\u001b[39;49m\u001b[43mget\u001b[49m\u001b[43m(\u001b[49m\u001b[38;5;124;43m\"\u001b[39;49m\u001b[38;5;124;43mmemory_map\u001b[39;49m\u001b[38;5;124;43m\"\u001b[39;49m\u001b[43m,\u001b[49m\u001b[43m \u001b[49m\u001b[38;5;28;43;01mFalse\u001b[39;49;00m\u001b[43m)\u001b[49m\u001b[43m,\u001b[49m\n\u001b[1;32m   1667\u001b[0m \u001b[43m    \u001b[49m\u001b[43mis_text\u001b[49m\u001b[38;5;241;43m=\u001b[39;49m\u001b[43mis_text\u001b[49m\u001b[43m,\u001b[49m\n\u001b[1;32m   1668\u001b[0m \u001b[43m    \u001b[49m\u001b[43merrors\u001b[49m\u001b[38;5;241;43m=\u001b[39;49m\u001b[38;5;28;43mself\u001b[39;49m\u001b[38;5;241;43m.\u001b[39;49m\u001b[43moptions\u001b[49m\u001b[38;5;241;43m.\u001b[39;49m\u001b[43mget\u001b[49m\u001b[43m(\u001b[49m\u001b[38;5;124;43m\"\u001b[39;49m\u001b[38;5;124;43mencoding_errors\u001b[39;49m\u001b[38;5;124;43m\"\u001b[39;49m\u001b[43m,\u001b[49m\u001b[43m \u001b[49m\u001b[38;5;124;43m\"\u001b[39;49m\u001b[38;5;124;43mstrict\u001b[39;49m\u001b[38;5;124;43m\"\u001b[39;49m\u001b[43m)\u001b[49m\u001b[43m,\u001b[49m\n\u001b[1;32m   1669\u001b[0m \u001b[43m    \u001b[49m\u001b[43mstorage_options\u001b[49m\u001b[38;5;241;43m=\u001b[39;49m\u001b[38;5;28;43mself\u001b[39;49m\u001b[38;5;241;43m.\u001b[39;49m\u001b[43moptions\u001b[49m\u001b[38;5;241;43m.\u001b[39;49m\u001b[43mget\u001b[49m\u001b[43m(\u001b[49m\u001b[38;5;124;43m\"\u001b[39;49m\u001b[38;5;124;43mstorage_options\u001b[39;49m\u001b[38;5;124;43m\"\u001b[39;49m\u001b[43m,\u001b[49m\u001b[43m \u001b[49m\u001b[38;5;28;43;01mNone\u001b[39;49;00m\u001b[43m)\u001b[49m\u001b[43m,\u001b[49m\n\u001b[1;32m   1670\u001b[0m \u001b[43m\u001b[49m\u001b[43m)\u001b[49m\n\u001b[1;32m   1671\u001b[0m \u001b[38;5;28;01massert\u001b[39;00m \u001b[38;5;28mself\u001b[39m\u001b[38;5;241m.\u001b[39mhandles \u001b[38;5;129;01mis\u001b[39;00m \u001b[38;5;129;01mnot\u001b[39;00m \u001b[38;5;28;01mNone\u001b[39;00m\n\u001b[1;32m   1672\u001b[0m f \u001b[38;5;241m=\u001b[39m \u001b[38;5;28mself\u001b[39m\u001b[38;5;241m.\u001b[39mhandles\u001b[38;5;241m.\u001b[39mhandle\n",
      "File \u001b[0;32m~/anaconda3/envs/dev/lib/python3.10/site-packages/pandas/io/common.py:859\u001b[0m, in \u001b[0;36mget_handle\u001b[0;34m(path_or_buf, mode, encoding, compression, memory_map, is_text, errors, storage_options)\u001b[0m\n\u001b[1;32m    854\u001b[0m \u001b[38;5;28;01melif\u001b[39;00m \u001b[38;5;28misinstance\u001b[39m(handle, \u001b[38;5;28mstr\u001b[39m):\n\u001b[1;32m    855\u001b[0m     \u001b[38;5;66;03m# Check whether the filename is to be opened in binary mode.\u001b[39;00m\n\u001b[1;32m    856\u001b[0m     \u001b[38;5;66;03m# Binary mode does not support 'encoding' and 'newline'.\u001b[39;00m\n\u001b[1;32m    857\u001b[0m     \u001b[38;5;28;01mif\u001b[39;00m ioargs\u001b[38;5;241m.\u001b[39mencoding \u001b[38;5;129;01mand\u001b[39;00m \u001b[38;5;124m\"\u001b[39m\u001b[38;5;124mb\u001b[39m\u001b[38;5;124m\"\u001b[39m \u001b[38;5;129;01mnot\u001b[39;00m \u001b[38;5;129;01min\u001b[39;00m ioargs\u001b[38;5;241m.\u001b[39mmode:\n\u001b[1;32m    858\u001b[0m         \u001b[38;5;66;03m# Encoding\u001b[39;00m\n\u001b[0;32m--> 859\u001b[0m         handle \u001b[38;5;241m=\u001b[39m \u001b[38;5;28;43mopen\u001b[39;49m\u001b[43m(\u001b[49m\n\u001b[1;32m    860\u001b[0m \u001b[43m            \u001b[49m\u001b[43mhandle\u001b[49m\u001b[43m,\u001b[49m\n\u001b[1;32m    861\u001b[0m \u001b[43m            \u001b[49m\u001b[43mioargs\u001b[49m\u001b[38;5;241;43m.\u001b[39;49m\u001b[43mmode\u001b[49m\u001b[43m,\u001b[49m\n\u001b[1;32m    862\u001b[0m \u001b[43m            \u001b[49m\u001b[43mencoding\u001b[49m\u001b[38;5;241;43m=\u001b[39;49m\u001b[43mioargs\u001b[49m\u001b[38;5;241;43m.\u001b[39;49m\u001b[43mencoding\u001b[49m\u001b[43m,\u001b[49m\n\u001b[1;32m    863\u001b[0m \u001b[43m            \u001b[49m\u001b[43merrors\u001b[49m\u001b[38;5;241;43m=\u001b[39;49m\u001b[43merrors\u001b[49m\u001b[43m,\u001b[49m\n\u001b[1;32m    864\u001b[0m \u001b[43m            \u001b[49m\u001b[43mnewline\u001b[49m\u001b[38;5;241;43m=\u001b[39;49m\u001b[38;5;124;43m\"\u001b[39;49m\u001b[38;5;124;43m\"\u001b[39;49m\u001b[43m,\u001b[49m\n\u001b[1;32m    865\u001b[0m \u001b[43m        \u001b[49m\u001b[43m)\u001b[49m\n\u001b[1;32m    866\u001b[0m     \u001b[38;5;28;01melse\u001b[39;00m:\n\u001b[1;32m    867\u001b[0m         \u001b[38;5;66;03m# Binary mode\u001b[39;00m\n\u001b[1;32m    868\u001b[0m         handle \u001b[38;5;241m=\u001b[39m \u001b[38;5;28mopen\u001b[39m(handle, ioargs\u001b[38;5;241m.\u001b[39mmode)\n",
      "\u001b[0;31mFileNotFoundError\u001b[0m: [Errno 2] No such file or directory: 'new_data.csv'"
     ]
    }
   ],
   "source": [
    "Original_Data = pd.read_csv(\"new_data.csv\",encoding ='latin-1')\n",
    "Original_Data.head()"
   ]
  },
  {
   "cell_type": "code",
   "execution_count": null,
   "id": "fc692992",
   "metadata": {},
   "outputs": [],
   "source": [
    "Original_Data.Effects.str.split(\",\",expand=True)"
   ]
  },
  {
   "cell_type": "code",
   "execution_count": null,
   "id": "bfdc4398",
   "metadata": {},
   "outputs": [],
   "source": [
    "effects = Original_Data.Effects.str.split(\",\",expand=True)\n",
    "effects.columns=[\"effect_1\", \"effect_2\", \"effect_3\", \"effect_4\", \"effect_5\"]\n",
    "effects.head()"
   ]
  },
  {
   "cell_type": "code",
   "execution_count": null,
   "id": "6d85ce16",
   "metadata": {},
   "outputs": [],
   "source": [
    "flavors = Original_Data.Flavor.str.split(\",\",expand=True)\n",
    "flavors.columns=[\"flavor_1\", \"flavor_2\", \"flavor_3\", \"flavor_4\"]\n",
    "flavors.head()"
   ]
  },
  {
   "cell_type": "code",
   "execution_count": null,
   "id": "d8901940",
   "metadata": {},
   "outputs": [],
   "source": [
    "flavors.info()"
   ]
  },
  {
   "cell_type": "code",
   "execution_count": null,
   "id": "31cef24a",
   "metadata": {},
   "outputs": [],
   "source": [
    "pd.concat([Original_Data, effects, flavors], axis=1)"
   ]
  },
  {
   "cell_type": "code",
   "execution_count": null,
   "id": "61249c82",
   "metadata": {},
   "outputs": [],
   "source": [
    "#Clean original data and combined data frame of the flavors and effects into the original Data Frame\n",
    "OD2=pd.concat([Original_Data, effects, flavors], axis=1)\n",
    "OD2.head()"
   ]
  },
  {
   "cell_type": "code",
   "execution_count": null,
   "id": "32f12f16",
   "metadata": {},
   "outputs": [],
   "source": [
    "OD2[\"num_effects\"]=OD2.Effects.str.count(\",\")+1\n",
    "OD2[\"num_flavors\"]=OD2.Flavor.str.count(\",\")+1\n",
    "OD2.info()"
   ]
  },
  {
   "cell_type": "code",
   "execution_count": null,
   "id": "365f510d",
   "metadata": {},
   "outputs": [],
   "source": [
    "OD2[\"effect_1\"].value_counts()"
   ]
  },
  {
   "cell_type": "code",
   "execution_count": null,
   "id": "a82e562d",
   "metadata": {},
   "outputs": [],
   "source": [
    "#Remove null values - Flavor4\n",
    "OD2=OD2.drop(columns=[\"flavor_4\"])\n",
    "OD3=OD2.dropna(how=\"any\")\n",
    "OD3.info()"
   ]
  },
  {
   "cell_type": "code",
   "execution_count": null,
   "id": "43876049",
   "metadata": {},
   "outputs": [],
   "source": [
    "#We droped 12% of null values so 88% of our data is valid\n",
    "#(2351-2053)/2351"
   ]
  },
  {
   "cell_type": "code",
   "execution_count": null,
   "id": "de15b485",
   "metadata": {},
   "outputs": [],
   "source": [
    "#fIND TOTAL VALUES FOR EACH TYPE\n",
    "OD3.Type.value_counts()"
   ]
  },
  {
   "cell_type": "code",
   "execution_count": null,
   "id": "8984f80a",
   "metadata": {},
   "outputs": [],
   "source": [
    "#Find average rating for each\n",
    "OD3.groupby(\"Type\").Rating.mean()"
   ]
  },
  {
   "cell_type": "code",
   "execution_count": null,
   "id": "d8f56f10",
   "metadata": {},
   "outputs": [],
   "source": [
    "#COUNT FOR EACH EFFECT FOR EFFECT1 BY TYPE\n",
    "OD3.groupby([\"Type\", \"effect_1\"]).size()"
   ]
  },
  {
   "cell_type": "code",
   "execution_count": null,
   "id": "6dbca632",
   "metadata": {},
   "outputs": [],
   "source": [
    "#COUNT FOR EACH EFFECT FOR EFFECT2 BY TYPE\n",
    "#OD3.groupby([\"Type\", \"effect_2\"]).size()"
   ]
  },
  {
   "cell_type": "code",
   "execution_count": null,
   "id": "f3e5f3e8",
   "metadata": {},
   "outputs": [],
   "source": [
    "#COUNT FOR EACH EFFECT FOR EFFECT3 BY TYPE\n",
    "#OD3.groupby([\"Type\", \"effect_3\"]).size()"
   ]
  },
  {
   "cell_type": "code",
   "execution_count": null,
   "id": "534cd77d",
   "metadata": {},
   "outputs": [],
   "source": [
    "#COUNT FOR EACH EFFECT FOR EFFECT4 BY TYPE\n",
    "#OD3.groupby([\"Type\", \"effect_4\"]).size()"
   ]
  },
  {
   "cell_type": "code",
   "execution_count": null,
   "id": "2e7ddfcb",
   "metadata": {},
   "outputs": [],
   "source": [
    "#COUNT FOR EACH EFFECT FOR EFFECT5 BY TYPE\n",
    "#OD3.groupby([\"Type\", \"effect_5\"]).size()"
   ]
  },
  {
   "cell_type": "code",
   "execution_count": null,
   "id": "f35bcf2d",
   "metadata": {},
   "outputs": [],
   "source": []
  },
  {
   "cell_type": "code",
   "execution_count": null,
   "id": "83aeea34",
   "metadata": {},
   "outputs": [],
   "source": [
    "#df3.to_csv(\"MaryJane_clean_data.csv\", index=False)"
   ]
  },
  {
   "cell_type": "code",
   "execution_count": null,
   "id": "0d7dbc9e",
   "metadata": {
    "scrolled": true
   },
   "outputs": [],
   "source": [
    "#Remove null values - Breeders\n",
    "# OD2=OD2.drop(columns=[\"Breeders\"])\n",
    "# OD3Breeders=OD2.dropna(how=\"any\")\n",
    "# OD3Breeders.info()"
   ]
  },
  {
   "cell_type": "code",
   "execution_count": null,
   "id": "95bc9726",
   "metadata": {},
   "outputs": [],
   "source": [
    "# Pull the list of The Top 5 Breeders\n",
    "top5_breeders=list(OD2[\"Breeders\"].value_counts().index[1:6])\n",
    "top5_breeders"
   ]
  },
  {
   "cell_type": "code",
   "execution_count": null,
   "id": "7d91b116",
   "metadata": {},
   "outputs": [],
   "source": [
    "# Create a dataframe for the top 5 breeders\n",
    "top5_breeders_df=OD2.loc[OD2[\"Breeders\"].isin(top5_breeders)]\n",
    "top5_breeders_df"
   ]
  },
  {
   "cell_type": "code",
   "execution_count": null,
   "id": "61cbd5d9",
   "metadata": {},
   "outputs": [],
   "source": [
    "#Create a bar chart that shows the number of each type grown by Top 5 Breeders\n",
    "breeders_type=top5_breeders_df.groupby(['Breeders','Type'])['Type'].count().unstack()\n",
    "breeders_type.plot(kind='bar')\n",
    "ax.bar_label(ax.containers[0])\n",
    "plt.xlabel('Top 5 Breeders')\n",
    "plt.ylabel('Total Count of Types')\n",
    "plt.title('Total Count For The Top 5 Breeders')\n",
    "# ax.margins(y=1)\n",
    "plt.ylim(0, 24)\n",
    "plt.show()\n"
   ]
  },
  {
   "cell_type": "code",
   "execution_count": null,
   "id": "3b9da0a3",
   "metadata": {},
   "outputs": [],
   "source": [
    "top5_breeders_df.groupby(['Breeders','Type','Strain'])[['Strain']].sum()"
   ]
  },
  {
   "cell_type": "code",
   "execution_count": null,
   "id": "03fc33e5",
   "metadata": {},
   "outputs": [],
   "source": [
    "top5_breeders_count=(OD2[\"Breeders\"].value_counts()[1:6])\n",
    "top5_breeders_count_df=pd.DataFrame({'breeders':top5_breeders_count.index, 'count':top5_breeders_count.values})\n",
    "# top5_breeders_count.plot(kind='bar')"
   ]
  },
  {
   "cell_type": "code",
   "execution_count": null,
   "id": "e5b53757",
   "metadata": {},
   "outputs": [],
   "source": [
    "# Create a bar chart that shows the count of unique strains grown by the Top 5 Breeders\n",
    "color = ['lightblue', 'blue', 'purple', 'red', 'black']\n",
    "ax = top5_breeders_count_df.plot.bar(x='breeders', y='count', legend=False, color=color)\n",
    "\n",
    "#annotate bars\n",
    "ax.bar_label(ax.containers[0])\n",
    "plt.xlabel('Top 5 Breeders')\n",
    "plt.ylabel('Unique Strains')\n",
    "plt.title('Unique Strains For Top 5 Breeders')\n",
    "plt.show()"
   ]
  },
  {
   "cell_type": "code",
   "execution_count": null,
   "id": "742c1a20",
   "metadata": {},
   "outputs": [],
   "source": []
  },
  {
   "cell_type": "code",
   "execution_count": null,
   "id": "4aba036b",
   "metadata": {},
   "outputs": [],
   "source": [
    "# Group the top 5 Breeders' by Avg Rating\n",
    "top5_breeders_avg=top5_breeders_df.groupby(\"Breeders\").Rating.mean()\n",
    "top5_breeders_avg"
   ]
  },
  {
   "cell_type": "code",
   "execution_count": null,
   "id": "bac327a0",
   "metadata": {},
   "outputs": [],
   "source": [
    "# Create Bar Chart Showing the Avg Rating For The Top 5 Breeders \n",
    "ax = top5_breeders_avg.plot.bar(x='breeders', y='rating', legend=False)\n",
    "\n",
    "#annotate bars\n",
    "ax.bar_label(ax.containers[0])\n",
    "plt.xlabel('Top 5 Breeders')\n",
    "plt.ylabel('Average Rating')\n",
    "plt.title('Average Rating For The Top 5 Breeders')\n",
    "plt.show()"
   ]
  },
  {
   "cell_type": "code",
   "execution_count": null,
   "id": "a931f793",
   "metadata": {},
   "outputs": [],
   "source": [
    "breeders_type=top5_breeders_df.groupby(['Breeders','Type'])['Type'].count().unstack()\n",
    "breeders_type.head()"
   ]
  },
  {
   "cell_type": "code",
   "execution_count": null,
   "id": "7438280d",
   "metadata": {},
   "outputs": [],
   "source": []
  }
 ],
 "metadata": {
  "kernelspec": {
   "display_name": "Python 3 (ipykernel)",
   "language": "python",
   "name": "python3"
  },
  "language_info": {
   "codemirror_mode": {
    "name": "ipython",
    "version": 3
   },
   "file_extension": ".py",
   "mimetype": "text/x-python",
   "name": "python",
   "nbconvert_exporter": "python",
   "pygments_lexer": "ipython3",
   "version": "3.10.13"
  }
 },
 "nbformat": 4,
 "nbformat_minor": 5
}
