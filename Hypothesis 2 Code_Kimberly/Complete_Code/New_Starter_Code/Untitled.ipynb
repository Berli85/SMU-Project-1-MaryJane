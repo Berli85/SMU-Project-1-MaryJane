{
 "cells": [
  {
   "cell_type": "code",
   "execution_count": 1,
   "id": "712fecee",
   "metadata": {},
   "outputs": [],
   "source": [
    "import pandas as pd\n",
    "import matplotlib.pyplot as plt\n",
    "import scipy.stats as st\n",
    "import numpy as np\n",
    "import sklearn.datasets as dta\n",
    "import seaborn as sns\n",
    "import seaborn.objects as so\n"
   ]
  },
  {
   "cell_type": "code",
   "execution_count": null,
   "id": "e155a2a9",
   "metadata": {},
   "outputs": [],
   "source": [
    "#Tacha Robbins\n",
    "\n",
    "#Depending on the TYPE of cannabis (Hybrid, sativa, and indica)is there a significant difference in the five effects?\n",
    "#First pull DataFrame for all"
   ]
  }
 ],
 "metadata": {
  "kernelspec": {
   "display_name": "Python 3 (ipykernel)",
   "language": "python",
   "name": "python3"
  },
  "language_info": {
   "codemirror_mode": {
    "name": "ipython",
    "version": 3
   },
   "file_extension": ".py",
   "mimetype": "text/x-python",
   "name": "python",
   "nbconvert_exporter": "python",
   "pygments_lexer": "ipython3",
   "version": "3.10.13"
  }
 },
 "nbformat": 4,
 "nbformat_minor": 5
}
